{
  "nbformat": 4,
  "nbformat_minor": 0,
  "metadata": {
    "colab": {
      "name": "AnimeList.ipynb",
      "version": "0.3.2",
      "provenance": [],
      "include_colab_link": true
    },
    "kernelspec": {
      "name": "python3",
      "display_name": "Python 3"
    }
  },
  "cells": [
    {
      "cell_type": "markdown",
      "metadata": {
        "id": "view-in-github",
        "colab_type": "text"
      },
      "source": [
        "<a href=\"https://colab.research.google.com/github/wongalex349/BigDataAnalytics/blob/master/AnimeList.ipynb\" target=\"_parent\"><img src=\"https://colab.research.google.com/assets/colab-badge.svg\" alt=\"Open In Colab\"/></a>"
      ]
    },
    {
      "cell_type": "code",
      "metadata": {
        "id": "_aZ5RBBlO8c5",
        "colab_type": "code",
        "colab": {}
      },
      "source": [
        "import numpy as np\n",
        "import matplotlib.pyplot as plt\n",
        "from pandas import Series,DataFrame\n",
        "import pandas as pd"
      ],
      "execution_count": 0,
      "outputs": []
    },
    {
      "cell_type": "code",
      "metadata": {
        "id": "fqM7iXJ8PLzX",
        "colab_type": "code",
        "outputId": "05128f12-5155-4d91-dc24-ba8d97b5437d",
        "colab": {
          "base_uri": "https://localhost:8080/",
          "height": 122
        }
      },
      "source": [
        "from google.colab import drive #importing onto google drive\n",
        "drive.mount('/content/drive/')"
      ],
      "execution_count": 2,
      "outputs": [
        {
          "output_type": "stream",
          "text": [
            "Go to this URL in a browser: https://accounts.google.com/o/oauth2/auth?client_id=947318989803-6bn6qk8qdgf4n4g3pfee6491hc0brc4i.apps.googleusercontent.com&redirect_uri=urn%3Aietf%3Awg%3Aoauth%3A2.0%3Aoob&scope=email%20https%3A%2F%2Fwww.googleapis.com%2Fauth%2Fdocs.test%20https%3A%2F%2Fwww.googleapis.com%2Fauth%2Fdrive%20https%3A%2F%2Fwww.googleapis.com%2Fauth%2Fdrive.photos.readonly%20https%3A%2F%2Fwww.googleapis.com%2Fauth%2Fpeopleapi.readonly&response_type=code\n",
            "\n",
            "Enter your authorization code:\n",
            "··········\n",
            "Mounted at /content/drive/\n"
          ],
          "name": "stdout"
        }
      ]
    },
    {
      "cell_type": "code",
      "metadata": {
        "id": "suR9-RHXPNob",
        "colab_type": "code",
        "colab": {}
      },
      "source": [
        "base = '/content/drive/My Drive/Colab Notebooks/UserList.csv'\n",
        "file = pd.read_csv(base)"
      ],
      "execution_count": 0,
      "outputs": []
    },
    {
      "cell_type": "code",
      "metadata": {
        "id": "doxJKp32STzg",
        "colab_type": "code",
        "colab": {
          "base_uri": "https://localhost:8080/",
          "height": 317
        },
        "outputId": "6c7d2ce3-4199-4e25-8a88-069c7743783f"
      },
      "source": [
        "file.describe()"
      ],
      "execution_count": 4,
      "outputs": [
        {
          "output_type": "execute_result",
          "data": {
            "text/html": [
              "<div>\n",
              "<style scoped>\n",
              "    .dataframe tbody tr th:only-of-type {\n",
              "        vertical-align: middle;\n",
              "    }\n",
              "\n",
              "    .dataframe tbody tr th {\n",
              "        vertical-align: top;\n",
              "    }\n",
              "\n",
              "    .dataframe thead th {\n",
              "        text-align: right;\n",
              "    }\n",
              "</style>\n",
              "<table border=\"1\" class=\"dataframe\">\n",
              "  <thead>\n",
              "    <tr style=\"text-align: right;\">\n",
              "      <th></th>\n",
              "      <th>user_id</th>\n",
              "      <th>user_watching</th>\n",
              "      <th>user_completed</th>\n",
              "      <th>user_onhold</th>\n",
              "      <th>user_dropped</th>\n",
              "      <th>user_plantowatch</th>\n",
              "      <th>user_days_spent_watching</th>\n",
              "      <th>access_rank</th>\n",
              "      <th>stats_mean_score</th>\n",
              "      <th>stats_rewatched</th>\n",
              "      <th>stats_episodes</th>\n",
              "    </tr>\n",
              "  </thead>\n",
              "  <tbody>\n",
              "    <tr>\n",
              "      <th>count</th>\n",
              "      <td>3.026750e+05</td>\n",
              "      <td>302675.000000</td>\n",
              "      <td>302675.000000</td>\n",
              "      <td>302675.000000</td>\n",
              "      <td>302675.000000</td>\n",
              "      <td>302675.000000</td>\n",
              "      <td>3.026750e+05</td>\n",
              "      <td>0.0</td>\n",
              "      <td>302546.000000</td>\n",
              "      <td>302546.000000</td>\n",
              "      <td>3.025460e+05</td>\n",
              "    </tr>\n",
              "    <tr>\n",
              "      <th>mean</th>\n",
              "      <td>2.061401e+06</td>\n",
              "      <td>13.400007</td>\n",
              "      <td>166.638289</td>\n",
              "      <td>9.861796</td>\n",
              "      <td>10.550366</td>\n",
              "      <td>64.040430</td>\n",
              "      <td>6.907645e+01</td>\n",
              "      <td>NaN</td>\n",
              "      <td>7.120476</td>\n",
              "      <td>10.375460</td>\n",
              "      <td>4.846288e+03</td>\n",
              "    </tr>\n",
              "    <tr>\n",
              "      <th>std</th>\n",
              "      <td>2.118037e+06</td>\n",
              "      <td>34.747045</td>\n",
              "      <td>239.359931</td>\n",
              "      <td>34.270394</td>\n",
              "      <td>43.119854</td>\n",
              "      <td>157.485891</td>\n",
              "      <td>4.741020e+03</td>\n",
              "      <td>NaN</td>\n",
              "      <td>2.574451</td>\n",
              "      <td>44.239666</td>\n",
              "      <td>4.473811e+05</td>\n",
              "    </tr>\n",
              "    <tr>\n",
              "      <th>min</th>\n",
              "      <td>1.000000e+00</td>\n",
              "      <td>0.000000</td>\n",
              "      <td>0.000000</td>\n",
              "      <td>0.000000</td>\n",
              "      <td>0.000000</td>\n",
              "      <td>0.000000</td>\n",
              "      <td>0.000000e+00</td>\n",
              "      <td>NaN</td>\n",
              "      <td>0.000000</td>\n",
              "      <td>0.000000</td>\n",
              "      <td>0.000000e+00</td>\n",
              "    </tr>\n",
              "    <tr>\n",
              "      <th>25%</th>\n",
              "      <td>2.322455e+05</td>\n",
              "      <td>2.000000</td>\n",
              "      <td>28.000000</td>\n",
              "      <td>0.000000</td>\n",
              "      <td>0.000000</td>\n",
              "      <td>2.000000</td>\n",
              "      <td>1.363000e+01</td>\n",
              "      <td>NaN</td>\n",
              "      <td>7.090000</td>\n",
              "      <td>0.000000</td>\n",
              "      <td>8.160000e+02</td>\n",
              "    </tr>\n",
              "    <tr>\n",
              "      <th>50%</th>\n",
              "      <td>1.167583e+06</td>\n",
              "      <td>6.000000</td>\n",
              "      <td>96.000000</td>\n",
              "      <td>2.000000</td>\n",
              "      <td>2.000000</td>\n",
              "      <td>20.000000</td>\n",
              "      <td>3.958000e+01</td>\n",
              "      <td>NaN</td>\n",
              "      <td>7.800000</td>\n",
              "      <td>0.000000</td>\n",
              "      <td>2.384000e+03</td>\n",
              "    </tr>\n",
              "    <tr>\n",
              "      <th>75%</th>\n",
              "      <td>3.883446e+06</td>\n",
              "      <td>14.000000</td>\n",
              "      <td>217.000000</td>\n",
              "      <td>10.000000</td>\n",
              "      <td>10.000000</td>\n",
              "      <td>68.000000</td>\n",
              "      <td>7.994000e+01</td>\n",
              "      <td>NaN</td>\n",
              "      <td>8.440000</td>\n",
              "      <td>6.000000</td>\n",
              "      <td>4.849000e+03</td>\n",
              "    </tr>\n",
              "    <tr>\n",
              "      <th>max</th>\n",
              "      <td>7.273306e+06</td>\n",
              "      <td>6370.000000</td>\n",
              "      <td>11536.000000</td>\n",
              "      <td>9729.000000</td>\n",
              "      <td>10823.000000</td>\n",
              "      <td>12051.000000</td>\n",
              "      <td>2.601351e+06</td>\n",
              "      <td>NaN</td>\n",
              "      <td>10.000000</td>\n",
              "      <td>9404.000000</td>\n",
              "      <td>2.437949e+08</td>\n",
              "    </tr>\n",
              "  </tbody>\n",
              "</table>\n",
              "</div>"
            ],
            "text/plain": [
              "            user_id  user_watching  ...  stats_rewatched  stats_episodes\n",
              "count  3.026750e+05  302675.000000  ...    302546.000000    3.025460e+05\n",
              "mean   2.061401e+06      13.400007  ...        10.375460    4.846288e+03\n",
              "std    2.118037e+06      34.747045  ...        44.239666    4.473811e+05\n",
              "min    1.000000e+00       0.000000  ...         0.000000    0.000000e+00\n",
              "25%    2.322455e+05       2.000000  ...         0.000000    8.160000e+02\n",
              "50%    1.167583e+06       6.000000  ...         0.000000    2.384000e+03\n",
              "75%    3.883446e+06      14.000000  ...         6.000000    4.849000e+03\n",
              "max    7.273306e+06    6370.000000  ...      9404.000000    2.437949e+08\n",
              "\n",
              "[8 rows x 11 columns]"
            ]
          },
          "metadata": {
            "tags": []
          },
          "execution_count": 4
        }
      ]
    },
    {
      "cell_type": "code",
      "metadata": {
        "id": "XdwFLtsqPWVC",
        "colab_type": "code",
        "colab": {
          "base_uri": "https://localhost:8080/",
          "height": 268
        },
        "outputId": "eb3b3a3d-b2b2-4a9f-e94d-2647ba2e2c18"
      },
      "source": [
        "\n",
        "y = file[['gender']];\n",
        "x_M = y[y.gender == 'Male'].gender.count();\n",
        "x_F = y[y.gender == 'Female'].gender.count();\n",
        "labels = 'Male','Female'\n",
        "x = y.count();\n",
        "\n",
        "perc_M = int(x_M/x * 100)\n",
        "perc_F = int(x_F/x * 100)\n",
        "size = [perc_M,perc_F]\n",
        "colors = ['lightblue','red']\n",
        "plt.pie(size, labels = labels, colors = colors,autopct='%1.1f%%')\n",
        "plt.legend(labels)\n",
        "plt.title('Gender Ratio of Survey')\n",
        "plt.axis('equal')\n",
        "plt.show()\n"
      ],
      "execution_count": 5,
      "outputs": [
        {
          "output_type": "display_data",
          "data": {
            "image/png": "[encoded data removed]",
            "text/plain": [
              "<Figure size 432x288 with 1 Axes>"
            ]
          },
          "metadata": {
            "tags": []
          }
        }
      ]
    },
    {
      "cell_type": "code",
      "metadata": {
        "id": "QQ5jjo5hNrOV",
        "colab_type": "code",
        "colab": {
          "base_uri": "https://localhost:8080/",
          "height": 281
        },
        "outputId": "a963c62f-d9c2-4fa1-dc04-19aadd00aa0d"
      },
      "source": [
        "y = file[['gender']];\n",
        "x = file[['user_days_spent_watching']]\n",
        "y_M = x[y.gender == 'Male'].sum()\n",
        "y_F = x[y.gender == 'Female'].sum()\n",
        "x_M = y[y.gender == 'Male'].gender.count();\n",
        "x_F = y[y.gender == 'Female'].gender.count();\n",
        "\n",
        "avg_M = y_M/x_M\n",
        "avg_F = y_F/x_F\n",
        "\n",
        "\n",
        "plt.bar('Male',avg_M, color = 'lightblue');\n",
        "plt.bar('Female',avg_F, color = 'pink');\n",
        "plt.ylabel('# of Individuals');\n",
        "plt.title('Average # of Days Spent Watching from Men and Women');\n",
        "plt.show();"
      ],
      "execution_count": 6,
      "outputs": [
        {
          "output_type": "display_data",
          "data": {
            "image/png": "[encoded data removed]",
            "text/plain": [
              "<Figure size 432x288 with 1 Axes>"
            ]
          },
          "metadata": {
            "tags": []
          }
        }
      ]
    },
    {
      "cell_type": "code",
      "metadata": {
        "id": "Z8a6KVf_T3BR",
        "colab_type": "code",
        "colab": {
          "base_uri": "https://localhost:8080/",
          "height": 434
        },
        "outputId": "a1276abe-10b5-4833-abc5-a24c2159607c"
      },
      "source": [
        "#How long people have been watching since they joined\n",
        "y = file[['join_date']];\n",
        "x = file.join_date.str.slice(0,4).dropna().astype(int)\n",
        "length = 2019 - x\n",
        "plt.title('# of Years people have been watching')\n",
        "plt.boxplot(length)\n",
        "length.describe()"
      ],
      "execution_count": 7,
      "outputs": [
        {
          "output_type": "execute_result",
          "data": {
            "text/plain": [
              "count    302546.000000\n",
              "mean          7.261157\n",
              "std           2.875925\n",
              "min           1.000000\n",
              "25%           5.000000\n",
              "50%           7.000000\n",
              "75%          10.000000\n",
              "max          15.000000\n",
              "Name: join_date, dtype: float64"
            ]
          },
          "metadata": {
            "tags": []
          },
          "execution_count": 7
        },
        {
          "output_type": "display_data",
          "data": {
            "image/png": "[encoded data removed]",
            "text/plain": [
              "<Figure size 432x288 with 1 Axes>"
            ]
          },
          "metadata": {
            "tags": []
          }
        }
      ]
    },
    {
      "cell_type": "code",
      "metadata": {
        "id": "lxNQ-2Z0CsR2",
        "colab_type": "code",
        "colab": {
          "base_uri": "https://localhost:8080/",
          "height": 434
        },
        "outputId": "3a82bc5d-dc09-46d4-bd76-2f102be2f4bd"
      },
      "source": [
        "y = file[['birth_date']];\n",
        "x = file.birth_date.str.slice(0,4).dropna()[100:500].astype(int) \n",
        "age = 2019 - x\n",
        "plt.title('Average age of users')\n",
        "plt.hist(age)\n",
        "age.describe()"
      ],
      "execution_count": 51,
      "outputs": [
        {
          "output_type": "execute_result",
          "data": {
            "text/plain": [
              "count    400.000000\n",
              "mean      27.070000\n",
              "std        6.443905\n",
              "min        5.000000\n",
              "25%       24.000000\n",
              "50%       27.000000\n",
              "75%       30.000000\n",
              "max       89.000000\n",
              "Name: birth_date, dtype: float64"
            ]
          },
          "metadata": {
            "tags": []
          },
          "execution_count": 51
        },
        {
          "output_type": "display_data",
          "data": {
            "image/png": "[encoded data removed]",
            "text/plain": [
              "<Figure size 432x288 with 1 Axes>"
            ]
          },
          "metadata": {
            "tags": []
          }
        }
      ]
    },
    {
      "cell_type": "code",
      "metadata": {
        "id": "ONUZPmhdf6rQ",
        "colab_type": "code",
        "colab": {
          "base_uri": "https://localhost:8080/",
          "height": 286
        },
        "outputId": "005924ab-4693-43b2-b9be-b31a21f54644"
      },
      "source": [
        "y = file[['user_dropped']][0:100];\n",
        "t = file[['join_date']][0:100];\n",
        "x = file.join_date.str.slice(0,4).dropna().astype(int)[0:100]\n",
        "length = 2019 - x\n",
        "plt.scatter(length,y)"
      ],
      "execution_count": 23,
      "outputs": [
        {
          "output_type": "execute_result",
          "data": {
            "text/plain": [
              "<matplotlib.collections.PathCollection at 0x7f609f1f25f8>"
            ]
          },
          "metadata": {
            "tags": []
          },
          "execution_count": 23
        },
        {
          "output_type": "display_data",
          "data": {
            "image/png": "[encoded data removed]",
            "text/plain": [
              "<Figure size 432x288 with 1 Axes>"
            ]
          },
          "metadata": {
            "tags": []
          }
        }
      ]
    },
    {
      "cell_type": "code",
      "metadata": {
        "id": "8s57YXOSFvkV",
        "colab_type": "code",
        "colab": {
          "base_uri": "https://localhost:8080/",
          "height": 312
        },
        "outputId": "c70a7b75-3b05-48ef-9b27-7547753ebd72"
      },
      "source": [
        "x = file[['user_watching']];\n",
        "y = file[['user_days_spent_watching']];\n",
        "plt.scatter(x,y )\n",
        "plt.ylabel('stats episode');\n",
        "plt.xlabel('stats mean score');\n",
        "plt.title('stats episodes vs stats mean score');\n",
        "plt.legend();\n",
        "plt.grid();\n",
        "plt.show();"
      ],
      "execution_count": 10,
      "outputs": [
        {
          "output_type": "stream",
          "text": [
            "No handles with labels found to put in legend.\n"
          ],
          "name": "stderr"
        },
        {
          "output_type": "display_data",
          "data": {
            "image/png": "[encoded data removed]",
            "text/plain": [
              "<Figure size 432x288 with 1 Axes>"
            ]
          },
          "metadata": {
            "tags": []
          }
        }
      ]
    },
    {
      "cell_type": "code",
      "metadata": {
        "id": "gJ-R3aDyFyAU",
        "colab_type": "code",
        "colab": {
          "base_uri": "https://localhost:8080/",
          "height": 295
        },
        "outputId": "d1a6db5c-f9d8-4371-f3ed-9b91902381dc"
      },
      "source": [
        "x = file[['stats_mean_score']];\n",
        "y = file[['stats_rewatched']];\n",
        "plt.ylabel('stats rewatched');\n",
        "plt.xlabel('stats mean score');\n",
        "plt.title('stats rewatched vs stats mean score');\n",
        "plt.scatter(x,y);\n",
        "plt.show();\n"
      ],
      "execution_count": 11,
      "outputs": [
        {
          "output_type": "display_data",
          "data": {
            "image/png": "[encoded data removed]",
            "text/plain": [
              "<Figure size 432x288 with 1 Axes>"
            ]
          },
          "metadata": {
            "tags": []
          }
        }
      ]
    }
  ]
}